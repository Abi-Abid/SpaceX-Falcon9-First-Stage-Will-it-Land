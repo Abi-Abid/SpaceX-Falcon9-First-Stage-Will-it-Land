{
 "cells": [
  {
   "cell_type": "markdown",
   "id": "26977728-ca6a-4980-9aa6-0d2d8e0b48ba",
   "metadata": {},
   "source": [
    "# Project 3 - **Space X Falcon 9 first stage landing prediction**"
   ]
  },
  {
   "cell_type": "markdown",
   "id": "700ca6b4-691f-4668-b9b8-9bf08bcc3137",
   "metadata": {},
   "source": [
    "## Part-2: Exploratory Data Analysis with SQL"
   ]
  },
  {
   "cell_type": "markdown",
   "id": "0247fc43-8c2a-4e61-83dd-2a3fb1e2482b",
   "metadata": {},
   "source": [
    "## Introduction\n",
    "Using this Python notebook you will:\n",
    "\n",
    "1.  Understand the Spacex DataSet\n",
    "2.  Load the dataset  into the corresponding table in a Db2 database\n",
    "3.  Execute SQL queries to answer assignment questions"
   ]
  },
  {
   "cell_type": "markdown",
   "id": "8167f7da-6bc5-4d5a-bc33-17c9721d33d3",
   "metadata": {},
   "source": [
    "## Overview of the DataSet\n",
    "\n",
    "SpaceX has gained worldwide attention for a series of historic milestones. \n",
    "\n",
    "It is the only private company ever to return a spacecraft from low-earth orbit, which it first accomplished in December 2010.\n",
    "SpaceX advertises Falcon 9 rocket launches on its website with a cost of 62 million dollars wheras other providers cost upward of 165 million dollars each, much of the savings is because Space X can reuse the first stage. \n",
    "\n",
    "\n",
    "Therefore if we can determine if the first stage will land, we can determine the cost of a launch. \n",
    "\n",
    "This information can be used if an alternate company wants to bid against SpaceX for a rocket launch.\n",
    "\n",
    "This dataset includes a record for each payload carried during a SpaceX mission into outer space."
   ]
  },
  {
   "cell_type": "markdown",
   "id": "ec92b7be-aec8-4c54-8e3b-47776f3791cb",
   "metadata": {},
   "source": [
    "### Download the datasets\n",
    "\n",
    "This assignment requires you to load the spacex dataset.\n",
    "\n",
    "In many cases the dataset to be analyzed is available as a .CSV (comma separated values) file, perhaps on the internet. Click on the link below to download and save the dataset (.CSV file):\n",
    "\n",
    " <a href=\"https://cf-courses-data.s3.us.cloud-object-storage.appdomain.cloud/IBM-DS0321EN-SkillsNetwork/labs/module_2/data/Spacex.csv\" target=\"_blank\">Spacex DataSet</a>"
   ]
  },
  {
   "cell_type": "code",
   "execution_count": 1,
   "id": "d62acce2-a53e-4ccd-b505-235adcffba12",
   "metadata": {},
   "outputs": [
    {
     "name": "stdout",
     "output_type": "stream",
     "text": [
      "Defaulting to user installation because normal site-packages is not writeable\n",
      "Collecting sqlalchemy==1.3.9\n",
      "  Downloading SQLAlchemy-1.3.9.tar.gz (6.0 MB)\n",
      "     ---------------------------------------- 0.0/6.0 MB ? eta -:--:--\n",
      "     --- ------------------------------------ 0.5/6.0 MB 8.2 MB/s eta 0:00:01\n",
      "     -------- ------------------------------- 1.3/6.0 MB 4.5 MB/s eta 0:00:02\n",
      "     -------------- ------------------------- 2.1/6.0 MB 4.1 MB/s eta 0:00:01\n",
      "     ------------------- -------------------- 2.9/6.0 MB 4.0 MB/s eta 0:00:01\n",
      "     ---------------------- ----------------- 3.4/6.0 MB 3.7 MB/s eta 0:00:01\n",
      "     ---------------------------- ----------- 4.2/6.0 MB 3.7 MB/s eta 0:00:01\n",
      "     --------------------------------- ------ 5.0/6.0 MB 3.7 MB/s eta 0:00:01\n",
      "     -------------------------------------- - 5.8/6.0 MB 3.7 MB/s eta 0:00:01\n",
      "     ---------------------------------------- 6.0/6.0 MB 3.4 MB/s eta 0:00:00\n",
      "  Preparing metadata (setup.py): started\n",
      "  Preparing metadata (setup.py): finished with status 'done'\n",
      "Building wheels for collected packages: sqlalchemy\n",
      "  Building wheel for sqlalchemy (setup.py): started\n",
      "  Building wheel for sqlalchemy (setup.py): finished with status 'done'\n",
      "  Created wheel for sqlalchemy: filename=SQLAlchemy-1.3.9-cp312-cp312-win_amd64.whl size=1142950 sha256=c7e921380ef3df8630bd31df1abd5fe01f8fe968e9dd494c874ce8f0345af4e7\n",
      "  Stored in directory: c:\\users\\abid\\appdata\\local\\pip\\cache\\wheels\\b3\\1c\\42\\0e26b8d512adc6bce10ff71a05229366b4ccec641cd3b42111\n",
      "Successfully built sqlalchemy\n",
      "Installing collected packages: sqlalchemy\n",
      "Successfully installed sqlalchemy-1.3.9\n"
     ]
    },
    {
     "name": "stderr",
     "output_type": "stream",
     "text": [
      "ERROR: pip's dependency resolver does not currently take into account all the packages that are installed. This behaviour is the source of the following dependency conflicts.\n",
      "ipython-sql 0.5.0 requires sqlalchemy>=2.0, but you have sqlalchemy 1.3.9 which is incompatible.\n"
     ]
    }
   ],
   "source": [
    "!pip install sqlalchemy==1.3.9"
   ]
  },
  {
   "cell_type": "markdown",
   "id": "7da41644-498d-499c-b304-06a1a88c77d7",
   "metadata": {},
   "source": [
    "### Connect to the database\n",
    "Let us first load the SQL extension and establish a connection with the database"
   ]
  },
  {
   "cell_type": "code",
   "execution_count": 2,
   "id": "edf0f42d-0e52-408f-a135-754f6457837a",
   "metadata": {},
   "outputs": [
    {
     "name": "stdout",
     "output_type": "stream",
     "text": [
      "Defaulting to user installation because normal site-packages is not writeable\n",
      "Requirement already satisfied: ipython-sql in c:\\users\\abid\\appdata\\roaming\\python\\python312\\site-packages (0.5.0)\n",
      "Requirement already satisfied: prettytable in c:\\users\\abid\\appdata\\roaming\\python\\python312\\site-packages (from ipython-sql) (3.15.1)\n",
      "Requirement already satisfied: ipython in f:\\abid\\anaconda3\\lib\\site-packages (from ipython-sql) (8.27.0)\n",
      "Collecting sqlalchemy>=2.0 (from ipython-sql)\n",
      "  Downloading sqlalchemy-2.0.40-cp312-cp312-win_amd64.whl.metadata (9.9 kB)\n",
      "Requirement already satisfied: sqlparse in c:\\users\\abid\\appdata\\roaming\\python\\python312\\site-packages (from ipython-sql) (0.5.3)\n",
      "Requirement already satisfied: six in f:\\abid\\anaconda3\\lib\\site-packages (from ipython-sql) (1.16.0)\n",
      "Requirement already satisfied: ipython-genutils in f:\\abid\\anaconda3\\lib\\site-packages (from ipython-sql) (0.2.0)\n",
      "Requirement already satisfied: greenlet>=1 in f:\\abid\\anaconda3\\lib\\site-packages (from sqlalchemy>=2.0->ipython-sql) (3.0.1)\n",
      "Requirement already satisfied: typing-extensions>=4.6.0 in f:\\abid\\anaconda3\\lib\\site-packages (from sqlalchemy>=2.0->ipython-sql) (4.11.0)\n",
      "Requirement already satisfied: decorator in f:\\abid\\anaconda3\\lib\\site-packages (from ipython->ipython-sql) (5.1.1)\n",
      "Requirement already satisfied: jedi>=0.16 in f:\\abid\\anaconda3\\lib\\site-packages (from ipython->ipython-sql) (0.19.1)\n",
      "Requirement already satisfied: matplotlib-inline in f:\\abid\\anaconda3\\lib\\site-packages (from ipython->ipython-sql) (0.1.6)\n",
      "Requirement already satisfied: prompt-toolkit<3.1.0,>=3.0.41 in f:\\abid\\anaconda3\\lib\\site-packages (from ipython->ipython-sql) (3.0.43)\n",
      "Requirement already satisfied: pygments>=2.4.0 in f:\\abid\\anaconda3\\lib\\site-packages (from ipython->ipython-sql) (2.15.1)\n",
      "Requirement already satisfied: stack-data in f:\\abid\\anaconda3\\lib\\site-packages (from ipython->ipython-sql) (0.2.0)\n",
      "Requirement already satisfied: traitlets>=5.13.0 in f:\\abid\\anaconda3\\lib\\site-packages (from ipython->ipython-sql) (5.14.3)\n",
      "Requirement already satisfied: colorama in f:\\abid\\anaconda3\\lib\\site-packages (from ipython->ipython-sql) (0.4.6)\n",
      "Requirement already satisfied: wcwidth in f:\\abid\\anaconda3\\lib\\site-packages (from prettytable->ipython-sql) (0.2.5)\n",
      "Requirement already satisfied: parso<0.9.0,>=0.8.3 in f:\\abid\\anaconda3\\lib\\site-packages (from jedi>=0.16->ipython->ipython-sql) (0.8.3)\n",
      "Requirement already satisfied: executing in f:\\abid\\anaconda3\\lib\\site-packages (from stack-data->ipython->ipython-sql) (0.8.3)\n",
      "Requirement already satisfied: asttokens in f:\\abid\\anaconda3\\lib\\site-packages (from stack-data->ipython->ipython-sql) (2.0.5)\n",
      "Requirement already satisfied: pure-eval in f:\\abid\\anaconda3\\lib\\site-packages (from stack-data->ipython->ipython-sql) (0.2.2)\n",
      "Downloading sqlalchemy-2.0.40-cp312-cp312-win_amd64.whl (2.1 MB)\n",
      "   ---------------------------------------- 0.0/2.1 MB ? eta -:--:--\n",
      "   --------- ------------------------------ 0.5/2.1 MB 4.2 MB/s eta 0:00:01\n",
      "   ----------------------------- ---------- 1.6/2.1 MB 4.0 MB/s eta 0:00:01\n",
      "   ---------------------------------------  2.1/2.1 MB 4.0 MB/s eta 0:00:01\n",
      "   ---------------------------------------  2.1/2.1 MB 4.0 MB/s eta 0:00:01\n",
      "   ---------------------------------------- 2.1/2.1 MB 2.2 MB/s eta 0:00:00\n",
      "Installing collected packages: sqlalchemy\n",
      "  Attempting uninstall: sqlalchemy\n",
      "    Found existing installation: SQLAlchemy 1.3.9\n",
      "    Uninstalling SQLAlchemy-1.3.9:\n",
      "      Successfully uninstalled SQLAlchemy-1.3.9\n",
      "Successfully installed sqlalchemy-2.0.40\n",
      "Defaulting to user installation because normal site-packages is not writeable\n",
      "Requirement already satisfied: ipython-sql in c:\\users\\abid\\appdata\\roaming\\python\\python312\\site-packages (0.5.0)\n",
      "Requirement already satisfied: prettytable in c:\\users\\abid\\appdata\\roaming\\python\\python312\\site-packages (3.15.1)\n",
      "Requirement already satisfied: ipython in f:\\abid\\anaconda3\\lib\\site-packages (from ipython-sql) (8.27.0)\n",
      "Requirement already satisfied: sqlalchemy>=2.0 in c:\\users\\abid\\appdata\\roaming\\python\\python312\\site-packages (from ipython-sql) (2.0.40)\n",
      "Requirement already satisfied: sqlparse in c:\\users\\abid\\appdata\\roaming\\python\\python312\\site-packages (from ipython-sql) (0.5.3)\n",
      "Requirement already satisfied: six in f:\\abid\\anaconda3\\lib\\site-packages (from ipython-sql) (1.16.0)\n",
      "Requirement already satisfied: ipython-genutils in f:\\abid\\anaconda3\\lib\\site-packages (from ipython-sql) (0.2.0)\n",
      "Requirement already satisfied: wcwidth in f:\\abid\\anaconda3\\lib\\site-packages (from prettytable) (0.2.5)\n",
      "Requirement already satisfied: greenlet>=1 in f:\\abid\\anaconda3\\lib\\site-packages (from sqlalchemy>=2.0->ipython-sql) (3.0.1)\n",
      "Requirement already satisfied: typing-extensions>=4.6.0 in f:\\abid\\anaconda3\\lib\\site-packages (from sqlalchemy>=2.0->ipython-sql) (4.11.0)\n",
      "Requirement already satisfied: decorator in f:\\abid\\anaconda3\\lib\\site-packages (from ipython->ipython-sql) (5.1.1)\n",
      "Requirement already satisfied: jedi>=0.16 in f:\\abid\\anaconda3\\lib\\site-packages (from ipython->ipython-sql) (0.19.1)\n",
      "Requirement already satisfied: matplotlib-inline in f:\\abid\\anaconda3\\lib\\site-packages (from ipython->ipython-sql) (0.1.6)\n",
      "Requirement already satisfied: prompt-toolkit<3.1.0,>=3.0.41 in f:\\abid\\anaconda3\\lib\\site-packages (from ipython->ipython-sql) (3.0.43)\n",
      "Requirement already satisfied: pygments>=2.4.0 in f:\\abid\\anaconda3\\lib\\site-packages (from ipython->ipython-sql) (2.15.1)\n",
      "Requirement already satisfied: stack-data in f:\\abid\\anaconda3\\lib\\site-packages (from ipython->ipython-sql) (0.2.0)\n",
      "Requirement already satisfied: traitlets>=5.13.0 in f:\\abid\\anaconda3\\lib\\site-packages (from ipython->ipython-sql) (5.14.3)\n",
      "Requirement already satisfied: colorama in f:\\abid\\anaconda3\\lib\\site-packages (from ipython->ipython-sql) (0.4.6)\n",
      "Requirement already satisfied: parso<0.9.0,>=0.8.3 in f:\\abid\\anaconda3\\lib\\site-packages (from jedi>=0.16->ipython->ipython-sql) (0.8.3)\n",
      "Requirement already satisfied: executing in f:\\abid\\anaconda3\\lib\\site-packages (from stack-data->ipython->ipython-sql) (0.8.3)\n",
      "Requirement already satisfied: asttokens in f:\\abid\\anaconda3\\lib\\site-packages (from stack-data->ipython->ipython-sql) (2.0.5)\n",
      "Requirement already satisfied: pure-eval in f:\\abid\\anaconda3\\lib\\site-packages (from stack-data->ipython->ipython-sql) (0.2.2)\n"
     ]
    }
   ],
   "source": [
    "!pip install ipython-sql\n",
    "!pip install ipython-sql prettytable"
   ]
  },
  {
   "cell_type": "code",
   "execution_count": 3,
   "id": "aaae3602-28fc-454a-ae7f-0d2d6275ae86",
   "metadata": {},
   "outputs": [],
   "source": [
    "%load_ext sql"
   ]
  },
  {
   "cell_type": "code",
   "execution_count": 16,
   "id": "77961f01-668a-4496-b781-26cd313e2d33",
   "metadata": {},
   "outputs": [],
   "source": [
    "import csv, sqlite3\n",
    "import prettytable\n",
    "prettytable.DEFAULT = 'DEFAULT'\n",
    "\n",
    "con = sqlite3.connect(\"my_data1.db\")\n",
    "cur = con.cursor()"
   ]
  },
  {
   "cell_type": "code",
   "execution_count": 17,
   "id": "41d0185e-2c23-4196-98a1-5002daaf3e9f",
   "metadata": {},
   "outputs": [],
   "source": [
    "!pip install -q pandas"
   ]
  },
  {
   "cell_type": "code",
   "execution_count": 18,
   "id": "c20e8d7f-9024-4c0c-a5e7-ddcbbe4f8352",
   "metadata": {},
   "outputs": [],
   "source": [
    "%sql sqlite:///my_data1.db"
   ]
  },
  {
   "cell_type": "code",
   "execution_count": 25,
   "id": "20ae0269-1037-4cf7-9d0b-d213db3b6a8e",
   "metadata": {},
   "outputs": [
    {
     "data": {
      "text/plain": [
       "101"
      ]
     },
     "execution_count": 25,
     "metadata": {},
     "output_type": "execute_result"
    }
   ],
   "source": [
    "import pandas as pd\n",
    "df = pd.read_csv(\"https://cf-courses-data.s3.us.cloud-object-storage.appdomain.cloud/IBM-DS0321EN-SkillsNetwork/labs/module_2/data/Spacex.csv\")\n",
    "df.columns = df.columns.str.strip()  # Removes extra spaces in column names\n",
    "df.to_sql(\"SPACEXTBL\", con, if_exists='replace', index=False,method=\"multi\")"
   ]
  },
  {
   "cell_type": "code",
   "execution_count": 26,
   "id": "4da1d49e-29a8-4f86-aee0-2962360955c8",
   "metadata": {},
   "outputs": [
    {
     "name": "stdout",
     "output_type": "stream",
     "text": [
      " * sqlite:///my_data1.db\n",
      "Done.\n"
     ]
    },
    {
     "data": {
      "text/plain": [
       "[]"
      ]
     },
     "execution_count": 26,
     "metadata": {},
     "output_type": "execute_result"
    }
   ],
   "source": [
    "#DROP THE TABLE IF EXISTS\n",
    "\n",
    "%sql DROP TABLE IF EXISTS SPACEXTABLE;"
   ]
  },
  {
   "cell_type": "code",
   "execution_count": 27,
   "id": "590115b3-bd3f-4024-a0a9-59dfadd3bfe6",
   "metadata": {},
   "outputs": [
    {
     "name": "stdout",
     "output_type": "stream",
     "text": [
      " * sqlite:///my_data1.db\n",
      "Done.\n"
     ]
    },
    {
     "data": {
      "text/plain": [
       "[]"
      ]
     },
     "execution_count": 27,
     "metadata": {},
     "output_type": "execute_result"
    }
   ],
   "source": [
    "%sql create table SPACEXTABLE as select * from SPACEXTBL where Date is not null"
   ]
  },
  {
   "cell_type": "code",
   "execution_count": 31,
   "id": "541b9de4-552d-46bb-a8e5-9f8960368412",
   "metadata": {},
   "outputs": [
    {
     "name": "stdout",
     "output_type": "stream",
     "text": [
      "    Launch_Site\n",
      "0   CCAFS LC-40\n",
      "1   VAFB SLC-4E\n",
      "2    KSC LC-39A\n",
      "3  CCAFS SLC-40\n"
     ]
    }
   ],
   "source": [
    "# Display the names of the unique launch sites in the space mission\n",
    "query = 'SELECT DISTINCT \"Launch_Site\" FROM SPACEXTBL WHERE \"LaunchSite\" IS NOT NULL;'\n",
    "unique_launch_sites = pd.read_sql(query, con)\n",
    "print(unique_launch_sites)"
   ]
  },
  {
   "cell_type": "code",
   "execution_count": 30,
   "id": "ce8a5b8b-b9ad-4cd5-b6c4-45b53d273a87",
   "metadata": {},
   "outputs": [
    {
     "name": "stdout",
     "output_type": "stream",
     "text": [
      "Index(['Date', 'Time (UTC)', 'Booster_Version', 'Launch_Site', 'Payload',\n",
      "       'PAYLOAD_MASS__KG_', 'Orbit', 'Customer', 'Mission_Outcome',\n",
      "       'Landing_Outcome'],\n",
      "      dtype='object')\n"
     ]
    }
   ],
   "source": [
    "print(df.columns)"
   ]
  },
  {
   "cell_type": "code",
   "execution_count": 34,
   "id": "ae6c2359-ac5c-4f0c-a2f5-f1a5ca8d8ad3",
   "metadata": {},
   "outputs": [
    {
     "data": {
      "text/html": [
       "<div>\n",
       "<style scoped>\n",
       "    .dataframe tbody tr th:only-of-type {\n",
       "        vertical-align: middle;\n",
       "    }\n",
       "\n",
       "    .dataframe tbody tr th {\n",
       "        vertical-align: top;\n",
       "    }\n",
       "\n",
       "    .dataframe thead th {\n",
       "        text-align: right;\n",
       "    }\n",
       "</style>\n",
       "<table border=\"1\" class=\"dataframe\">\n",
       "  <thead>\n",
       "    <tr style=\"text-align: right;\">\n",
       "      <th></th>\n",
       "      <th>Date</th>\n",
       "      <th>Time (UTC)</th>\n",
       "      <th>Booster_Version</th>\n",
       "      <th>Launch_Site</th>\n",
       "      <th>Payload</th>\n",
       "      <th>PAYLOAD_MASS__KG_</th>\n",
       "      <th>Orbit</th>\n",
       "      <th>Customer</th>\n",
       "      <th>Mission_Outcome</th>\n",
       "      <th>Landing_Outcome</th>\n",
       "    </tr>\n",
       "  </thead>\n",
       "  <tbody>\n",
       "    <tr>\n",
       "      <th>0</th>\n",
       "      <td>2010-06-04</td>\n",
       "      <td>18:45:00</td>\n",
       "      <td>F9 v1.0  B0003</td>\n",
       "      <td>CCAFS LC-40</td>\n",
       "      <td>Dragon Spacecraft Qualification Unit</td>\n",
       "      <td>0</td>\n",
       "      <td>LEO</td>\n",
       "      <td>SpaceX</td>\n",
       "      <td>Success</td>\n",
       "      <td>Failure (parachute)</td>\n",
       "    </tr>\n",
       "    <tr>\n",
       "      <th>1</th>\n",
       "      <td>2010-12-08</td>\n",
       "      <td>15:43:00</td>\n",
       "      <td>F9 v1.0  B0004</td>\n",
       "      <td>CCAFS LC-40</td>\n",
       "      <td>Dragon demo flight C1, two CubeSats, barrel of...</td>\n",
       "      <td>0</td>\n",
       "      <td>LEO (ISS)</td>\n",
       "      <td>NASA (COTS) NRO</td>\n",
       "      <td>Success</td>\n",
       "      <td>Failure (parachute)</td>\n",
       "    </tr>\n",
       "    <tr>\n",
       "      <th>2</th>\n",
       "      <td>2012-05-22</td>\n",
       "      <td>7:44:00</td>\n",
       "      <td>F9 v1.0  B0005</td>\n",
       "      <td>CCAFS LC-40</td>\n",
       "      <td>Dragon demo flight C2</td>\n",
       "      <td>525</td>\n",
       "      <td>LEO (ISS)</td>\n",
       "      <td>NASA (COTS)</td>\n",
       "      <td>Success</td>\n",
       "      <td>No attempt</td>\n",
       "    </tr>\n",
       "    <tr>\n",
       "      <th>3</th>\n",
       "      <td>2012-10-08</td>\n",
       "      <td>0:35:00</td>\n",
       "      <td>F9 v1.0  B0006</td>\n",
       "      <td>CCAFS LC-40</td>\n",
       "      <td>SpaceX CRS-1</td>\n",
       "      <td>500</td>\n",
       "      <td>LEO (ISS)</td>\n",
       "      <td>NASA (CRS)</td>\n",
       "      <td>Success</td>\n",
       "      <td>No attempt</td>\n",
       "    </tr>\n",
       "    <tr>\n",
       "      <th>4</th>\n",
       "      <td>2013-03-01</td>\n",
       "      <td>15:10:00</td>\n",
       "      <td>F9 v1.0  B0007</td>\n",
       "      <td>CCAFS LC-40</td>\n",
       "      <td>SpaceX CRS-2</td>\n",
       "      <td>677</td>\n",
       "      <td>LEO (ISS)</td>\n",
       "      <td>NASA (CRS)</td>\n",
       "      <td>Success</td>\n",
       "      <td>No attempt</td>\n",
       "    </tr>\n",
       "  </tbody>\n",
       "</table>\n",
       "</div>"
      ],
      "text/plain": [
       "         Date Time (UTC) Booster_Version  Launch_Site  \\\n",
       "0  2010-06-04   18:45:00  F9 v1.0  B0003  CCAFS LC-40   \n",
       "1  2010-12-08   15:43:00  F9 v1.0  B0004  CCAFS LC-40   \n",
       "2  2012-05-22    7:44:00  F9 v1.0  B0005  CCAFS LC-40   \n",
       "3  2012-10-08    0:35:00  F9 v1.0  B0006  CCAFS LC-40   \n",
       "4  2013-03-01   15:10:00  F9 v1.0  B0007  CCAFS LC-40   \n",
       "\n",
       "                                             Payload  PAYLOAD_MASS__KG_  \\\n",
       "0               Dragon Spacecraft Qualification Unit                  0   \n",
       "1  Dragon demo flight C1, two CubeSats, barrel of...                  0   \n",
       "2                              Dragon demo flight C2                525   \n",
       "3                                       SpaceX CRS-1                500   \n",
       "4                                       SpaceX CRS-2                677   \n",
       "\n",
       "       Orbit         Customer Mission_Outcome      Landing_Outcome  \n",
       "0        LEO           SpaceX         Success  Failure (parachute)  \n",
       "1  LEO (ISS)  NASA (COTS) NRO         Success  Failure (parachute)  \n",
       "2  LEO (ISS)      NASA (COTS)         Success           No attempt  \n",
       "3  LEO (ISS)       NASA (CRS)         Success           No attempt  \n",
       "4  LEO (ISS)       NASA (CRS)         Success           No attempt  "
      ]
     },
     "execution_count": 34,
     "metadata": {},
     "output_type": "execute_result"
    }
   ],
   "source": [
    "#Display 5 records where launch sites begin with the string 'CCA'\n",
    "query = '''\n",
    "SELECT * FROM SPACEXTBL \n",
    "WHERE \"Launch_Site\" LIKE 'CCA%' \n",
    "LIMIT 5;\n",
    "'''\n",
    "result = pd.read_sql(query, con)\n",
    "result"
   ]
  },
  {
   "cell_type": "code",
   "execution_count": 35,
   "id": "8031a6cb-4142-4e14-8cd7-ca7b7c5fd67a",
   "metadata": {},
   "outputs": [
    {
     "name": "stdout",
     "output_type": "stream",
     "text": [
      "   Total_Payload_Mass\n",
      "0               45596\n"
     ]
    }
   ],
   "source": [
    "#Display the total payload mass carried by boosters launched by NASA (CRS)\n",
    "query = '''\n",
    "SELECT SUM(\"PAYLOAD_MASS__KG_\") AS Total_Payload_Mass\n",
    "FROM SPACEXTBL\n",
    "WHERE \"Customer\" LIKE 'NASA (CRS)';\n",
    "'''\n",
    "result = pd.read_sql(query, con)\n",
    "print(result)\n"
   ]
  },
  {
   "cell_type": "code",
   "execution_count": 36,
   "id": "4f7877f1-b214-4de7-a991-ff3112aff518",
   "metadata": {},
   "outputs": [
    {
     "name": "stdout",
     "output_type": "stream",
     "text": [
      "   Average_Payload_Mass\n",
      "0                2928.4\n"
     ]
    }
   ],
   "source": [
    "#Display average payload mass carried by booster version F9 v1.1\n",
    "query = '''\n",
    "SELECT AVG(\"PAYLOAD_MASS__KG_\") AS Average_Payload_Mass\n",
    "FROM SPACEXTBL\n",
    "WHERE \"Booster_Version\" = 'F9 v1.1';\n",
    "'''\n",
    "result = pd.read_sql(query, con)\n",
    "print(result)\n"
   ]
  },
  {
   "cell_type": "code",
   "execution_count": 37,
   "id": "335b7090-634e-42db-9f8c-d3033ee5964f",
   "metadata": {},
   "outputs": [
    {
     "name": "stdout",
     "output_type": "stream",
     "text": [
      "  First_Successful_Landing\n",
      "0               2015-12-22\n"
     ]
    }
   ],
   "source": [
    "#List the date when the first succesful landing outcome in ground pad was acheived.\n",
    "query = '''\n",
    "SELECT MIN(\"Date\") AS First_Successful_Landing\n",
    "FROM SPACEXTBL\n",
    "WHERE \"Landing_Outcome\" = 'Success (ground pad)';\n",
    "'''\n",
    "result = pd.read_sql(query, con)\n",
    "print(result)"
   ]
  },
  {
   "cell_type": "code",
   "execution_count": 39,
   "id": "4912833d-506f-4f5d-87fd-98228e7a1591",
   "metadata": {},
   "outputs": [
    {
     "name": "stdout",
     "output_type": "stream",
     "text": [
      "  Booster_Version\n",
      "0     F9 FT B1022\n",
      "1     F9 FT B1026\n",
      "2  F9 FT  B1021.2\n",
      "3  F9 FT  B1031.2\n"
     ]
    }
   ],
   "source": [
    "#List the names of the boosters which have success in drone ship and have payload mass greater than 4000 but less than 6000\n",
    "query = '''\n",
    "SELECT DISTINCT \"Booster_Version\" \n",
    "FROM SPACEXTBL\n",
    "WHERE \"Landing_Outcome\" = 'Success (drone ship)'\n",
    "AND \"PAYLOAD_MASS__KG_\" > 4000\n",
    "AND \"PAYLOAD_MASS__KG_\" < 6000;\n",
    "'''\n",
    "result = pd.read_sql(query, con)\n",
    "print(result)\n"
   ]
  },
  {
   "cell_type": "code",
   "execution_count": 40,
   "id": "4bf0578f-c6cb-4746-a6da-f57c507a6739",
   "metadata": {},
   "outputs": [
    {
     "name": "stdout",
     "output_type": "stream",
     "text": [
      "                    Mission_Outcome  Total_Count\n",
      "0               Failure (in flight)            1\n",
      "1                           Success           98\n",
      "2                          Success             1\n",
      "3  Success (payload status unclear)            1\n"
     ]
    }
   ],
   "source": [
    "#List the total number of successful and failure mission outcomes\n",
    "query = '''\n",
    "SELECT \"Mission_Outcome\", COUNT(*) AS Total_Count \n",
    "FROM SPACEXTBL \n",
    "GROUP BY \"Mission_Outcome\";\n",
    "'''\n",
    "result = pd.read_sql(query, con)\n",
    "print(result)\n"
   ]
  },
  {
   "cell_type": "code",
   "execution_count": 41,
   "id": "cbe627d7-96fe-4b01-b3d4-4430d7364b1c",
   "metadata": {},
   "outputs": [
    {
     "name": "stdout",
     "output_type": "stream",
     "text": [
      "   Booster_Version\n",
      "0    F9 B5 B1048.4\n",
      "1    F9 B5 B1049.4\n",
      "2    F9 B5 B1051.3\n",
      "3    F9 B5 B1056.4\n",
      "4    F9 B5 B1048.5\n",
      "5    F9 B5 B1051.4\n",
      "6    F9 B5 B1049.5\n",
      "7   F9 B5 B1060.2 \n",
      "8   F9 B5 B1058.3 \n",
      "9    F9 B5 B1051.6\n",
      "10   F9 B5 B1060.3\n",
      "11  F9 B5 B1049.7 \n"
     ]
    }
   ],
   "source": [
    "#List all the booster_versions that have carried the maximum payload mass. Use a subquery.\n",
    "query = '''\n",
    "SELECT \"Booster_Version\" \n",
    "FROM SPACEXTBL \n",
    "WHERE \"PAYLOAD_MASS__KG_\" = (SELECT MAX(\"PAYLOAD_MASS__KG_\") FROM SPACEXTBL);\n",
    "'''\n",
    "result = pd.read_sql(query, con)\n",
    "print(result)\n"
   ]
  },
  {
   "cell_type": "code",
   "execution_count": 42,
   "id": "3ad7db0d-f3a5-49aa-b867-930b04825174",
   "metadata": {},
   "outputs": [
    {
     "name": "stdout",
     "output_type": "stream",
     "text": [
      "  Month_Name Booster_Version  Launch_Site       Landing_Outcome\n",
      "0    January   F9 v1.1 B1012  CCAFS LC-40  Failure (drone ship)\n",
      "1      April   F9 v1.1 B1015  CCAFS LC-40  Failure (drone ship)\n"
     ]
    }
   ],
   "source": [
    "#List the records which will display the month names, failure landing_outcomes in drone ship ,booster versions, launch_site for the months in year 2015.\n",
    "#Note: SQLLite does not support monthnames. So you need to use substr(Date, 6,2) as month to get the months and substr(Date,0,5)='2015' for year.\n",
    "query = '''\n",
    "SELECT \n",
    "    CASE \n",
    "        WHEN substr(\"Date\", 6, 2) = '01' THEN 'January'\n",
    "        WHEN substr(\"Date\", 6, 2) = '02' THEN 'February'\n",
    "        WHEN substr(\"Date\", 6, 2) = '03' THEN 'March'\n",
    "        WHEN substr(\"Date\", 6, 2) = '04' THEN 'April'\n",
    "        WHEN substr(\"Date\", 6, 2) = '05' THEN 'May'\n",
    "        WHEN substr(\"Date\", 6, 2) = '06' THEN 'June'\n",
    "        WHEN substr(\"Date\", 6, 2) = '07' THEN 'July'\n",
    "        WHEN substr(\"Date\", 6, 2) = '08' THEN 'August'\n",
    "        WHEN substr(\"Date\", 6, 2) = '09' THEN 'September'\n",
    "        WHEN substr(\"Date\", 6, 2) = '10' THEN 'October'\n",
    "        WHEN substr(\"Date\", 6, 2) = '11' THEN 'November'\n",
    "        WHEN substr(\"Date\", 6, 2) = '12' THEN 'December'\n",
    "    END AS Month_Name, \n",
    "    \"Booster_Version\", \n",
    "    \"Launch_Site\", \n",
    "    \"Landing_Outcome\"\n",
    "FROM SPACEXTBL\n",
    "WHERE substr(\"Date\", 0, 5) = '2015' \n",
    "AND \"Landing_Outcome\" LIKE '%Failure%' \n",
    "AND \"Landing_Outcome\" LIKE '%drone ship%';\n",
    "'''\n",
    "\n",
    "result = pd.read_sql(query, con)\n",
    "print(result)\n"
   ]
  },
  {
   "cell_type": "markdown",
   "id": "539221ed-5404-44a8-b06c-5c1f777a5e47",
   "metadata": {},
   "source": [
    "Rank the count of landing outcomes (such as Failure (drone ship) or Success (ground pad)) between the date 2010-06-04 and 2017-03-20, in descending order."
   ]
  },
  {
   "cell_type": "code",
   "execution_count": 43,
   "id": "3c4a3dd9-027b-4a57-926c-47856e382a8c",
   "metadata": {},
   "outputs": [
    {
     "name": "stdout",
     "output_type": "stream",
     "text": [
      "          Landing_Outcome  Outcome_Count\n",
      "0              No attempt             10\n",
      "1    Success (drone ship)              5\n",
      "2    Failure (drone ship)              5\n",
      "3    Success (ground pad)              3\n",
      "4      Controlled (ocean)              3\n",
      "5    Uncontrolled (ocean)              2\n",
      "6     Failure (parachute)              2\n",
      "7  Precluded (drone ship)              1\n"
     ]
    }
   ],
   "source": [
    "query = '''\n",
    "SELECT \"Landing_Outcome\", COUNT(*) as Outcome_Count\n",
    "FROM SPACEXTBL\n",
    "WHERE \"Date\" BETWEEN '2010-06-04' AND '2017-03-20'\n",
    "GROUP BY \"Landing_Outcome\"\n",
    "ORDER BY Outcome_Count DESC;\n",
    "'''\n",
    "\n",
    "result = pd.read_sql(query, con)\n",
    "print(result)\n"
   ]
  },
  {
   "cell_type": "markdown",
   "id": "c78720a1-72d7-481b-98d3-83157611e377",
   "metadata": {},
   "source": [
    "### Reference Links\n",
    "\n",
    "* <a href =\"https://cf-courses-data.s3.us.cloud-object-storage.appdomain.cloud/IBMDeveloperSkillsNetwork-DB0201EN-SkillsNetwork/labs/Labs_Coursera_V5/labs/Lab%20-%20String%20Patterns%20-%20Sorting%20-%20Grouping/instructional-labs.md.html?origin=www.coursera.org\">Hands-on Lab : String Patterns, Sorting and Grouping</a>  \n",
    "\n",
    "*  <a  href=\"https://cf-courses-data.s3.us.cloud-object-storage.appdomain.cloud/IBMDeveloperSkillsNetwork-DB0201EN-SkillsNetwork/labs/Labs_Coursera_V5/labs/Lab%20-%20Built-in%20functions%20/Hands-on_Lab__Built-in_Functions.md.html?origin=www.coursera.org\">Hands-on Lab: Built-in functions</a>\n",
    "\n",
    "*  <a  href=\"https://cf-courses-data.s3.us.cloud-object-storage.appdomain.cloud/IBMDeveloperSkillsNetwork-DB0201EN-SkillsNetwork/labs/Labs_Coursera_V5/labs/Lab%20-%20Sub-queries%20and%20Nested%20SELECTs%20/instructional-labs.md.html?origin=www.coursera.org\">Hands-on Lab : Sub-queries and Nested SELECT Statements</a>\n",
    "\n",
    "*   <a href=\"https://cf-courses-data.s3.us.cloud-object-storage.appdomain.cloud/IBMDeveloperSkillsNetwork-DB0201EN-SkillsNetwork/labs/Module%205/DB0201EN-Week3-1-3-SQLmagic.ipynb\">Hands-on Tutorial: Accessing Databases with SQL magic</a>\n",
    "\n",
    "*  <a href= \"https://cf-courses-data.s3.us.cloud-object-storage.appdomain.cloud/IBMDeveloperSkillsNetwork-DB0201EN-SkillsNetwork/labs/Module%205/DB0201EN-Week3-1-4-Analyzing.ipynb\">Hands-on Lab: Analyzing a real World Data Set</a>\n"
   ]
  },
  {
   "cell_type": "code",
   "execution_count": null,
   "id": "877d4b22-1272-46b1-8a5f-540261d34702",
   "metadata": {},
   "outputs": [],
   "source": []
  }
 ],
 "metadata": {
  "kernelspec": {
   "display_name": "Python 3 (ipykernel)",
   "language": "python",
   "name": "python3"
  },
  "language_info": {
   "codemirror_mode": {
    "name": "ipython",
    "version": 3
   },
   "file_extension": ".py",
   "mimetype": "text/x-python",
   "name": "python",
   "nbconvert_exporter": "python",
   "pygments_lexer": "ipython3",
   "version": "3.12.7"
  }
 },
 "nbformat": 4,
 "nbformat_minor": 5
}
