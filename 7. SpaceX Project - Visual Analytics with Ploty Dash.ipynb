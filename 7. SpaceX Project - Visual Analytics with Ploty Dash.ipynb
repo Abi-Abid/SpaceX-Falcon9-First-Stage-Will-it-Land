{
 "cells": [
  {
   "cell_type": "markdown",
   "id": "4cd7c073-df3c-4b82-9a69-349deb1c6318",
   "metadata": {},
   "source": [
    "## Project 3 - **Space X Falcon 9 first stage landing prediction**"
   ]
  },
  {
   "cell_type": "markdown",
   "id": "05c70136-1679-45ef-972b-9a9874b3ecbd",
   "metadata": {},
   "source": [
    "### Building an Interactive Dashboard with Ploty Dash"
   ]
  },
  {
   "cell_type": "markdown",
   "id": "a11f44e0-fde9-4851-9b35-83960281be7a",
   "metadata": {},
   "source": [
    "In this lab, we will be building a Ploty Dash application for users to perform interactive visual analytics on SpaceX launch data in real time.\n",
    "\n",
    "This dashboard application contains input componenets such as dropdown list and a range slider to interact with a pie chart and a scatter point chart. You will be guided to build this dashboard application via the following tasks:\n",
    "\n",
    "- Task 1: Add a lauch site Drop-down Input Componenet\n",
    "- Task 2: Add a call back function to render `success-pie-chart`, based on selected site dropdown\n",
    "- Task 3: Add a range slider to Select Payload\n",
    "- Task 4: Add a callback function to render the `success-payload-scatter-chart` scatter plot.\n",
    "\n",
    "After visual analysis using the dashboard, we should be able to obtain some insights to answer the following questions.\n",
    "\n",
    "1. Which site has the largest successful launches?\n",
    "2. Which site has the highest launch success rate?\n",
    "3. Which payload ranges has the highest lauch success rate?\n",
    "4. Which payload range has the lowest launch success rate?\n",
    "5. Which F9 Booster version (`v1.0`, `v1.1`, `FT`, `B4`, `B5`, etc.,)has the highest launch success rate?"
   ]
  },
  {
   "cell_type": "markdown",
   "id": "dfd03a45-c07d-45bc-a165-d29408bc377a",
   "metadata": {},
   "source": [
    "Note - I'm performing this project on the jupyter notebook, alternatively we can perform on diferrent software like clou IDE, sypder python terminal and then use the anaconda navigator to set the link for webpage of our dashboard using the downloaded python script file from sypder."
   ]
  },
  {
   "cell_type": "code",
   "execution_count": 2,
   "id": "41356daa-c0b2-4d27-a429-98889613e7a2",
   "metadata": {},
   "outputs": [
    {
     "name": "stdout",
     "output_type": "stream",
     "text": [
      "Defaulting to user installation because normal site-packages is not writeable\n",
      "Requirement already satisfied: pandas in f:\\abid\\anaconda3\\lib\\site-packages (2.2.2)\n",
      "Requirement already satisfied: numpy in f:\\abid\\anaconda3\\lib\\site-packages (1.26.4)\n",
      "Requirement already satisfied: plotly in f:\\abid\\anaconda3\\lib\\site-packages (5.24.1)\n",
      "Requirement already satisfied: dash in c:\\users\\abid\\appdata\\roaming\\python\\python312\\site-packages (3.0.0)\n",
      "Requirement already satisfied: jupyter-dash in c:\\users\\abid\\appdata\\roaming\\python\\python312\\site-packages (0.4.2)\n",
      "Requirement already satisfied: python-dateutil>=2.8.2 in f:\\abid\\anaconda3\\lib\\site-packages (from pandas) (2.9.0.post0)\n",
      "Requirement already satisfied: pytz>=2020.1 in f:\\abid\\anaconda3\\lib\\site-packages (from pandas) (2024.1)\n",
      "Requirement already satisfied: tzdata>=2022.7 in f:\\abid\\anaconda3\\lib\\site-packages (from pandas) (2023.3)\n",
      "Requirement already satisfied: tenacity>=6.2.0 in f:\\abid\\anaconda3\\lib\\site-packages (from plotly) (8.2.3)\n",
      "Requirement already satisfied: packaging in f:\\abid\\anaconda3\\lib\\site-packages (from plotly) (24.1)\n",
      "Requirement already satisfied: Flask<3.1,>=1.0.4 in f:\\abid\\anaconda3\\lib\\site-packages (from dash) (3.0.3)\n",
      "Requirement already satisfied: Werkzeug<3.1 in f:\\abid\\anaconda3\\lib\\site-packages (from dash) (3.0.3)\n",
      "Requirement already satisfied: importlib-metadata in f:\\abid\\anaconda3\\lib\\site-packages (from dash) (7.0.1)\n",
      "Requirement already satisfied: typing-extensions>=4.1.1 in f:\\abid\\anaconda3\\lib\\site-packages (from dash) (4.11.0)\n",
      "Requirement already satisfied: requests in f:\\abid\\anaconda3\\lib\\site-packages (from dash) (2.32.3)\n",
      "Requirement already satisfied: retrying in c:\\users\\abid\\appdata\\roaming\\python\\python312\\site-packages (from dash) (1.3.4)\n",
      "Requirement already satisfied: nest-asyncio in f:\\abid\\anaconda3\\lib\\site-packages (from dash) (1.6.0)\n",
      "Requirement already satisfied: setuptools in f:\\abid\\anaconda3\\lib\\site-packages (from dash) (75.1.0)\n",
      "Requirement already satisfied: stringcase>=1.2.0 in c:\\users\\abid\\appdata\\roaming\\python\\python312\\site-packages (from dash) (1.2.0)\n",
      "Requirement already satisfied: ipython in f:\\abid\\anaconda3\\lib\\site-packages (from jupyter-dash) (8.27.0)\n",
      "Requirement already satisfied: ipykernel in f:\\abid\\anaconda3\\lib\\site-packages (from jupyter-dash) (6.28.0)\n",
      "Requirement already satisfied: ansi2html in c:\\users\\abid\\appdata\\roaming\\python\\python312\\site-packages (from jupyter-dash) (1.9.2)\n",
      "Requirement already satisfied: Jinja2>=3.1.2 in f:\\abid\\anaconda3\\lib\\site-packages (from Flask<3.1,>=1.0.4->dash) (3.1.4)\n",
      "Requirement already satisfied: itsdangerous>=2.1.2 in f:\\abid\\anaconda3\\lib\\site-packages (from Flask<3.1,>=1.0.4->dash) (2.2.0)\n",
      "Requirement already satisfied: click>=8.1.3 in f:\\abid\\anaconda3\\lib\\site-packages (from Flask<3.1,>=1.0.4->dash) (8.1.7)\n",
      "Requirement already satisfied: blinker>=1.6.2 in f:\\abid\\anaconda3\\lib\\site-packages (from Flask<3.1,>=1.0.4->dash) (1.6.2)\n",
      "Requirement already satisfied: six>=1.5 in f:\\abid\\anaconda3\\lib\\site-packages (from python-dateutil>=2.8.2->pandas) (1.16.0)\n",
      "Requirement already satisfied: MarkupSafe>=2.1.1 in f:\\abid\\anaconda3\\lib\\site-packages (from Werkzeug<3.1->dash) (2.1.3)\n",
      "Requirement already satisfied: zipp>=0.5 in f:\\abid\\anaconda3\\lib\\site-packages (from importlib-metadata->dash) (3.17.0)\n",
      "Requirement already satisfied: comm>=0.1.1 in f:\\abid\\anaconda3\\lib\\site-packages (from ipykernel->jupyter-dash) (0.2.1)\n",
      "Requirement already satisfied: debugpy>=1.6.5 in f:\\abid\\anaconda3\\lib\\site-packages (from ipykernel->jupyter-dash) (1.6.7)\n",
      "Requirement already satisfied: jupyter-client>=6.1.12 in f:\\abid\\anaconda3\\lib\\site-packages (from ipykernel->jupyter-dash) (8.6.0)\n",
      "Requirement already satisfied: jupyter-core!=5.0.*,>=4.12 in f:\\abid\\anaconda3\\lib\\site-packages (from ipykernel->jupyter-dash) (5.7.2)\n",
      "Requirement already satisfied: matplotlib-inline>=0.1 in f:\\abid\\anaconda3\\lib\\site-packages (from ipykernel->jupyter-dash) (0.1.6)\n",
      "Requirement already satisfied: psutil in f:\\abid\\anaconda3\\lib\\site-packages (from ipykernel->jupyter-dash) (5.9.0)\n",
      "Requirement already satisfied: pyzmq>=24 in f:\\abid\\anaconda3\\lib\\site-packages (from ipykernel->jupyter-dash) (25.1.2)\n",
      "Requirement already satisfied: tornado>=6.1 in f:\\abid\\anaconda3\\lib\\site-packages (from ipykernel->jupyter-dash) (6.4.1)\n",
      "Requirement already satisfied: traitlets>=5.4.0 in f:\\abid\\anaconda3\\lib\\site-packages (from ipykernel->jupyter-dash) (5.14.3)\n",
      "Requirement already satisfied: decorator in f:\\abid\\anaconda3\\lib\\site-packages (from ipython->jupyter-dash) (5.1.1)\n",
      "Requirement already satisfied: jedi>=0.16 in f:\\abid\\anaconda3\\lib\\site-packages (from ipython->jupyter-dash) (0.19.1)\n",
      "Requirement already satisfied: prompt-toolkit<3.1.0,>=3.0.41 in f:\\abid\\anaconda3\\lib\\site-packages (from ipython->jupyter-dash) (3.0.43)\n",
      "Requirement already satisfied: pygments>=2.4.0 in f:\\abid\\anaconda3\\lib\\site-packages (from ipython->jupyter-dash) (2.15.1)\n",
      "Requirement already satisfied: stack-data in f:\\abid\\anaconda3\\lib\\site-packages (from ipython->jupyter-dash) (0.2.0)\n",
      "Requirement already satisfied: colorama in f:\\abid\\anaconda3\\lib\\site-packages (from ipython->jupyter-dash) (0.4.6)\n",
      "Requirement already satisfied: charset-normalizer<4,>=2 in f:\\abid\\anaconda3\\lib\\site-packages (from requests->dash) (3.3.2)\n",
      "Requirement already satisfied: idna<4,>=2.5 in f:\\abid\\anaconda3\\lib\\site-packages (from requests->dash) (3.7)\n",
      "Requirement already satisfied: urllib3<3,>=1.21.1 in f:\\abid\\anaconda3\\lib\\site-packages (from requests->dash) (2.2.3)\n",
      "Requirement already satisfied: certifi>=2017.4.17 in f:\\abid\\anaconda3\\lib\\site-packages (from requests->dash) (2024.8.30)\n",
      "Requirement already satisfied: parso<0.9.0,>=0.8.3 in f:\\abid\\anaconda3\\lib\\site-packages (from jedi>=0.16->ipython->jupyter-dash) (0.8.3)\n",
      "Requirement already satisfied: platformdirs>=2.5 in f:\\abid\\anaconda3\\lib\\site-packages (from jupyter-core!=5.0.*,>=4.12->ipykernel->jupyter-dash) (3.10.0)\n",
      "Requirement already satisfied: pywin32>=300 in f:\\abid\\anaconda3\\lib\\site-packages (from jupyter-core!=5.0.*,>=4.12->ipykernel->jupyter-dash) (305.1)\n",
      "Requirement already satisfied: wcwidth in f:\\abid\\anaconda3\\lib\\site-packages (from prompt-toolkit<3.1.0,>=3.0.41->ipython->jupyter-dash) (0.2.5)\n",
      "Requirement already satisfied: executing in f:\\abid\\anaconda3\\lib\\site-packages (from stack-data->ipython->jupyter-dash) (0.8.3)\n",
      "Requirement already satisfied: asttokens in f:\\abid\\anaconda3\\lib\\site-packages (from stack-data->ipython->jupyter-dash) (2.0.5)\n",
      "Requirement already satisfied: pure-eval in f:\\abid\\anaconda3\\lib\\site-packages (from stack-data->ipython->jupyter-dash) (0.2.2)\n"
     ]
    }
   ],
   "source": [
    "!pip install pandas numpy plotly dash jupyter-dash\n",
    "\n",
    "#importing all required libraries \n",
    "#Data handling\n",
    "import pandas as pd\n",
    "import numpy as np\n",
    "\n",
    "#visualization\n",
    "import plotly.express as px\n",
    "import plotly.graph_objects as go\n",
    "\n",
    "#dash for interactive dashboard (jupyter version)\n",
    "from jupyter_dash import JupyterDash\n",
    "import dash\n",
    "from dash import dcc\n",
    "from dash import html\n",
    "from dash.dependencies import Input, Output"
   ]
  },
  {
   "cell_type": "markdown",
   "id": "0ccac8d1-33e6-404c-a7fc-9d0e41b6cafd",
   "metadata": {},
   "source": [
    "### Dowmload a skeleton dashboard application and dataset\n",
    "\n",
    "First, let's get the SpaceX Launch dataset for this project:"
   ]
  },
  {
   "cell_type": "code",
   "execution_count": 3,
   "id": "6deae9e6-acaa-461f-a708-2d1979236d7f",
   "metadata": {},
   "outputs": [
    {
     "name": "stdout",
     "output_type": "stream",
     "text": [
      "Files downloaded successfully!\n"
     ]
    }
   ],
   "source": [
    "import urllib.request\n",
    "\n",
    "# URLs for dataset and skeleton script\n",
    "dataset_url = \"https://cf-courses-data.s3.us.cloud-object-storage.appdomain.cloud/IBM-DS0321EN-SkillsNetwork/datasets/spacex_launch_dash.csv\"\n",
    "script_url = \"https://cf-courses-data.s3.us.cloud-object-storage.appdomain.cloud/t4-Vy4iOU19i8y6E3Px_ww/spacex-dash-app.py\"\n",
    "\n",
    "# Download dataset\n",
    "urllib.request.urlretrieve(dataset_url, \"spacex_launch_dash.csv\")\n",
    "\n",
    "# Download skeleton Dash app\n",
    "urllib.request.urlretrieve(script_url, \"spacex-dash-app.py\")\n",
    "\n",
    "print(\"Files downloaded successfully!\")\n"
   ]
  },
  {
   "cell_type": "code",
   "execution_count": 4,
   "id": "03826995-6298-48b1-b05c-371842f03f13",
   "metadata": {},
   "outputs": [
    {
     "name": "stdout",
     "output_type": "stream",
     "text": [
      " Volume in drive C is Windows\n",
      " Volume Serial Number is BCF3-9EC6\n",
      "\n",
      " Directory of C:\\Users\\ABID\\Applied Datascience Capstone Project\n",
      "\n",
      "01/04/2025  08:35    <DIR>          .\n",
      "29/03/2025  21:11    <DIR>          ..\n",
      "31/03/2025  22:24    <DIR>          .ipynb_checkpoints\n",
      "30/03/2025  18:44            93,104 1. Space X Project - Data Collection.ipynb\n",
      "30/03/2025  19:43            50,556 2. SpaceX Project - Data Collection Part 2.ipynb\n",
      "30/03/2025  22:26            39,578 3. SpaceX Project - Data Wrangling.ipynb\n",
      "30/03/2025  23:39            32,328 4. SpaceX Project - EDA with SQL.ipynb\n",
      "31/03/2025  00:19           426,810 5. SpaceX Project - with EDA and Matplotlib.ipynb\n",
      "31/03/2025  20:58           333,889 6. SpaceX Project - Visual Analytics with Folium.ipynb\n",
      "01/04/2025  08:35            19,915 7. SpaceX Project - Visual Analytics with Ploty Dash.ipynb\n",
      "30/03/2025  15:44            11,916 dataset_spacex_part_1.csv\n",
      "30/03/2025  20:21            12,102 dataset_spacex_part_2.csv\n",
      "31/03/2025  00:19            30,427 dataset_spacex_part_3.csv\n",
      "30/03/2025  22:47            36,864 my_data1.db\n",
      "01/04/2025  08:36             2,476 spacex_launch_dash.csv\n",
      "30/03/2025  18:40            12,153 spacex_web_scraped.csv\n",
      "01/04/2025  08:36             2,075 spacex-dash-app.py\n",
      "              14 File(s)      1,104,193 bytes\n",
      "               3 Dir(s)  44,841,439,232 bytes free\n"
     ]
    }
   ],
   "source": [
    "ls"
   ]
  },
  {
   "cell_type": "code",
   "execution_count": 5,
   "id": "b52c3f94-33a3-4ede-9504-ea122a79bc4f",
   "metadata": {},
   "outputs": [
    {
     "data": {
      "text/html": [
       "<div>\n",
       "<style scoped>\n",
       "    .dataframe tbody tr th:only-of-type {\n",
       "        vertical-align: middle;\n",
       "    }\n",
       "\n",
       "    .dataframe tbody tr th {\n",
       "        vertical-align: top;\n",
       "    }\n",
       "\n",
       "    .dataframe thead th {\n",
       "        text-align: right;\n",
       "    }\n",
       "</style>\n",
       "<table border=\"1\" class=\"dataframe\">\n",
       "  <thead>\n",
       "    <tr style=\"text-align: right;\">\n",
       "      <th></th>\n",
       "      <th>Unnamed: 0</th>\n",
       "      <th>Flight Number</th>\n",
       "      <th>Launch Site</th>\n",
       "      <th>class</th>\n",
       "      <th>Payload Mass (kg)</th>\n",
       "      <th>Booster Version</th>\n",
       "      <th>Booster Version Category</th>\n",
       "    </tr>\n",
       "  </thead>\n",
       "  <tbody>\n",
       "    <tr>\n",
       "      <th>0</th>\n",
       "      <td>0</td>\n",
       "      <td>1</td>\n",
       "      <td>CCAFS LC-40</td>\n",
       "      <td>0</td>\n",
       "      <td>0.0</td>\n",
       "      <td>F9 v1.0  B0003</td>\n",
       "      <td>v1.0</td>\n",
       "    </tr>\n",
       "    <tr>\n",
       "      <th>1</th>\n",
       "      <td>1</td>\n",
       "      <td>2</td>\n",
       "      <td>CCAFS LC-40</td>\n",
       "      <td>0</td>\n",
       "      <td>0.0</td>\n",
       "      <td>F9 v1.0  B0004</td>\n",
       "      <td>v1.0</td>\n",
       "    </tr>\n",
       "    <tr>\n",
       "      <th>2</th>\n",
       "      <td>2</td>\n",
       "      <td>3</td>\n",
       "      <td>CCAFS LC-40</td>\n",
       "      <td>0</td>\n",
       "      <td>525.0</td>\n",
       "      <td>F9 v1.0  B0005</td>\n",
       "      <td>v1.0</td>\n",
       "    </tr>\n",
       "    <tr>\n",
       "      <th>3</th>\n",
       "      <td>3</td>\n",
       "      <td>4</td>\n",
       "      <td>CCAFS LC-40</td>\n",
       "      <td>0</td>\n",
       "      <td>500.0</td>\n",
       "      <td>F9 v1.0  B0006</td>\n",
       "      <td>v1.0</td>\n",
       "    </tr>\n",
       "    <tr>\n",
       "      <th>4</th>\n",
       "      <td>4</td>\n",
       "      <td>5</td>\n",
       "      <td>CCAFS LC-40</td>\n",
       "      <td>0</td>\n",
       "      <td>677.0</td>\n",
       "      <td>F9 v1.0  B0007</td>\n",
       "      <td>v1.0</td>\n",
       "    </tr>\n",
       "  </tbody>\n",
       "</table>\n",
       "</div>"
      ],
      "text/plain": [
       "   Unnamed: 0  Flight Number  Launch Site  class  Payload Mass (kg)  \\\n",
       "0           0              1  CCAFS LC-40      0                0.0   \n",
       "1           1              2  CCAFS LC-40      0                0.0   \n",
       "2           2              3  CCAFS LC-40      0              525.0   \n",
       "3           3              4  CCAFS LC-40      0              500.0   \n",
       "4           4              5  CCAFS LC-40      0              677.0   \n",
       "\n",
       "  Booster Version Booster Version Category  \n",
       "0  F9 v1.0  B0003                     v1.0  \n",
       "1  F9 v1.0  B0004                     v1.0  \n",
       "2  F9 v1.0  B0005                     v1.0  \n",
       "3  F9 v1.0  B0006                     v1.0  \n",
       "4  F9 v1.0  B0007                     v1.0  "
      ]
     },
     "execution_count": 5,
     "metadata": {},
     "output_type": "execute_result"
    }
   ],
   "source": [
    "import pandas as pd\n",
    "df = pd.read_csv('spacex_launch_dash.csv')\n",
    "df.head()"
   ]
  },
  {
   "cell_type": "markdown",
   "id": "d387b5fc-7473-45f1-a31c-40482783ea74",
   "metadata": {},
   "source": [
    "## Add a Launch site Drop-down Input Componenet\n",
    "\n",
    "We have four different launch sites and we would like to first see which one has the largest success count. Then, we would like to select one specific site and check its detailed success rate (class = 0 vs class = 1).\n",
    "\n",
    "As such, we will need a dropdown menu to let us select different lauch sites.\n",
    "\n",
    "Input attributes:\n",
    "\n",
    "- `id` attribute with value `site-dropdown`\n",
    "- `option` attribute is a list of dict-like option objects (with `label` and `value` attributes). We can set the `lable` and `value` all to be the launch site names in the `space_df` and we need to include the default `All` option.\n",
    "- value` attribute with default dropdown value to be `All` meaning all sites are selected.\n",
    "- `placeholder` attribute to show text sescription about this input area, such as `Select a Launch Site here`.\n",
    "- `searchable` attribute to be True so we can enter keywords to search launch sites."
   ]
  },
  {
   "cell_type": "code",
   "execution_count": 6,
   "id": "2ad4523c-8d2e-4fc2-b508-78e42d63a7f8",
   "metadata": {},
   "outputs": [],
   "source": [
    "#define launch site options\n",
    "launch_sites = [\n",
    "    {'label': 'All', 'value': 'All'},\n",
    "    {'label': 'CCAFS LC-40', 'value': 'CCAFS LC-40'},\n",
    "    {'label': 'CCAFS SLC-40', 'value': 'CCAFS SLC-40'},\n",
    "    {'label': 'KSC LC-39A', 'value': 'KSC LC-39A'},\n",
    "    {'label': 'VAFB SLC-4E', 'value': 'VAFB SLC-4E'}\n",
    "]\n",
    "\n",
    "#create dropdown component\n",
    "launch_site_dropdown = dcc.Dropdown(\n",
    "    id = 'site-dropdown',\n",
    "    options = launch_sites,\n",
    "    value = 'ALL',   #Default selection\n",
    "    placeholder = 'Select a launch site here',\n",
    "    searchable = True #enable search functionality\n",
    ")"
   ]
  },
  {
   "cell_type": "markdown",
   "id": "f99e5b9a-9774-49b4-831a-9e374fde6414",
   "metadata": {},
   "source": [
    "## Add a callback function to render `success-pie-chart` based on selected site dropdown"
   ]
  },
  {
   "cell_type": "markdown",
   "id": "80121012-3e07-49fa-abee-f24c912b7f2d",
   "metadata": {},
   "source": [
    "The general idea of this call back function is to get the selected launch site from `site-dropdown` and render a pie chart visualizing launch success counts.\n",
    "\n",
    "Dash callback function is a type of Python function which will be automatically called by Dash whenever receiving an input componenet updates, such as a click or dropdown selecting event.\n",
    "\n",
    "let's add a callback function in `spacex_dash_app.py` (python script) including the following aplication logic:\n",
    "- Input is set to be the `site-dropdown` dropdown, i.e., `Input(componenet_id = 'site-dropdown', component_property = 'value')\n",
    "- Output to be the graph with ID `success-pie-chart`, i.e., `Output(component_id = 'success-pie-chart', component_property = 'figure')`\n",
    "- A `If-else` statement to check if All sites were slected or just a specific launch site was selected.\n",
    "  - If All sites are selected, we will use all rows in the dataframe `space_df` to render and return a pie chart graph to show the total success launches (i.e., the total count of `class` column)\n",
    "  - If a specific launch site is selected, we need to filter the dataframe `spacex_df` first in order to include the only data for the selected site. Then, render and return a pie chart graph to show the success (`class=1`) count and failed (`class=0`) count for the selected site."
   ]
  },
  {
   "cell_type": "code",
   "execution_count": 12,
   "id": "686f68a4-baea-4b65-940c-2800431cf3a8",
   "metadata": {},
   "outputs": [],
   "source": [
    "from dash.dependencies import Input, Output\n",
    "\n",
    "#load the dataset\n",
    "spacex_df = pd.read_csv('spacex_launch_dash.csv')\n",
    "\n",
    "#list of unique launch sites\n",
    "launch_sites = spacex_df['Launch Site'].unique()\n",
    "options = [{'label': site, 'value': site} for site in launch_sites]\n",
    "options.insert(0, {'label': 'All sites', 'value': 'ALL'})\n",
    "\n",
    "#Initialize the dash app\n",
    "app = dash.Dash(__name__)\n",
    "\n",
    "app.layout = html.Div([\n",
    "    html.H1('SpaceX Launch Success Dashboard', style = {'textAlign': 'centre'}),\n",
    "\n",
    "    # Dropdown menu\n",
    "    dcc.Dropdown(\n",
    "        id = 'site-dropdown',\n",
    "        options = options,\n",
    "        value = 'All',\n",
    "        placeholder = 'Select a Launch Site here',\n",
    "        searchable = True\n",
    "    ),\n",
    "\n",
    "    html.Br(),\n",
    "\n",
    "    #pie chart\n",
    "    dcc.Graph(id = 'success-pie-chart'),\n",
    "])\n",
    "\n",
    "#callback to update pie chart\n",
    "@app.callback(\n",
    "    Output(component_id = 'success-pie-chart', component_property = 'figure'),\n",
    "    Input(component_id = 'site-dropdown', component_property = 'value')\n",
    ")\n",
    "def update_pie_chart(selected_site):\n",
    "    if selected_site == 'All':\n",
    "        fig = px.pie(spacex_df, value = 'class', names = 'Launch Site', title = 'Total Success Launches for All Sites')\n",
    "\n",
    "    else: \n",
    "        filtered_df = spacex_df[spacex_df['Launch Site'] == selected_site]\n",
    "        fig = px.pie(filtered_df, names = 'class', title = f'success vs. Failure for {selected_site}')\n",
    "    return fig"
   ]
  },
  {
   "cell_type": "markdown",
   "id": "a63b7072-9635-4f05-bae6-d6b13f8012c1",
   "metadata": {},
   "source": [
    "## 3. Add a Range Slider to Select Payload\n",
    "\n",
    "Next, we want to find if variable payload is correlated to mission outcome. From a dashboard point of view, we want to able to easily select different payload range and see if we can identify some visual patterns.\n",
    "\n",
    "Find and complete a commented input with the following attribute:\n",
    "- `id` to be `payload-slider`\n",
    "- `min` indicating the slider starting point, we set its value to be 0 (kg)\n",
    "- `max` indicating the slider ending point to, we set its value to be 10000 (kg)\n",
    "- `step` indicating the slider interval on the slider, we set its value to be 1000 (kg)\n",
    "- `value` indicating the current selected range, we could set it to be `min_payload` and `max_payload`."
   ]
  },
  {
   "cell_type": "code",
   "execution_count": 14,
   "id": "2cd270bd-b340-4339-955b-7f247ce17b24",
   "metadata": {},
   "outputs": [
    {
     "data": {
      "text/plain": [
       "RangeSlider(min=0, max=10000, step=1000, marks={0: '0', 2000: '2000', 4000: '4000', 6000: '6000', 8000: '8000', 10000: '10000'}, value=[0, 10000], id='payload-slider')"
      ]
     },
     "execution_count": 14,
     "metadata": {},
     "output_type": "execute_result"
    }
   ],
   "source": [
    "#define default payload range values\n",
    "min_payload = 0\n",
    "max_payload = 10000\n",
    "\n",
    "#add range slider to the dashboard\n",
    "dcc.RangeSlider(\n",
    "    id = 'payload-slider',\n",
    "    min = 0,\n",
    "    max = 10000,\n",
    "    step = 1000,\n",
    "    marks = {i: str(i) for i in range (0, 11000, 2000)}, #label every 2000kg\n",
    "    value = [min_payload, max_payload] # default range selection\n",
    ")"
   ]
  },
  {
   "cell_type": "markdown",
   "id": "65a90779-d7cd-489c-a0c9-96cdb126df7a",
   "metadata": {},
   "source": [
    "## 4. Add a callback function to render the `success-payload-scatter-chart` scatter plot\n",
    "\n",
    "Next, we want to plot a scatter plot with the x axis to be the payload and the y axis to be the launch outcome (i.e., `class` column).\n",
    "\n",
    "As such, we can visually observe how payload may be correlated with mission outcomes for selected site(s).\n",
    "\n",
    "Inaddition, we want to color-label the Booster version on each scatter point so that we may observe mission outcomes with different boosters.\n",
    "\n",
    "Now, let's add a call function including the following application logic:\n",
    "- Input to be `[Input(component_id = 'site-dropdown', component_property = 'value'), Input(component_id = 'payload-slider', component-property = 'value')]`, note that we have two input components, one to recive selected launch site and other to recive selected payload range.\n",
    "- Output to be `Output(component_id = 'success-payload-scatter-chart', component_property = 'figure')`\n",
    "- A `If-Else` statement to check if All sites were selected or just a specific launch site was selected\n",
    "  - If All sites are selcted, render a scatter plot to display all values for variable `Payload Mass (kg)` and variable `class`.\n",
    "  - In addition, the point color need to be set to the booster version i.e., `color = 'Booster Version Category'`\n",
    "  - If a specific launch site is selected, we need to filter the `spacex_df` first, and render a scatter chart to show values `Payload Mass (kg)` and `class` for the selected site, and color-label the point using `Booster Version Category` likewise."
   ]
  },
  {
   "cell_type": "markdown",
   "id": "3a52339e-473e-48e5-84db-a46bf369ae77",
   "metadata": {},
   "source": [
    "Final Dash app code \n",
    "- Dropdown for selecting launch sites\n",
    "- Pie chart for success rate visualization\n",
    "- Range slider for payload selection\n",
    "- Scatter plot for payload vs launch outcome"
   ]
  },
  {
   "cell_type": "code",
   "execution_count": 23,
   "id": "4160975e-b135-4035-8666-099709d1152b",
   "metadata": {},
   "outputs": [
    {
     "ename": "OSError",
     "evalue": "Address 'http://127.0.0.1:8050' already in use.\n    Try passing a different port to run.",
     "output_type": "error",
     "traceback": [
      "\u001b[1;31m---------------------------------------------------------------------------\u001b[0m",
      "\u001b[1;31mOSError\u001b[0m                                   Traceback (most recent call last)",
      "Cell \u001b[1;32mIn[23], line 127\u001b[0m\n\u001b[0;32m    125\u001b[0m \u001b[38;5;66;03m# Run the Dash app\u001b[39;00m\n\u001b[0;32m    126\u001b[0m \u001b[38;5;28;01mif\u001b[39;00m \u001b[38;5;18m__name__\u001b[39m \u001b[38;5;241m==\u001b[39m \u001b[38;5;124m'\u001b[39m\u001b[38;5;124m__main__\u001b[39m\u001b[38;5;124m'\u001b[39m:\n\u001b[1;32m--> 127\u001b[0m     app\u001b[38;5;241m.\u001b[39mrun(debug \u001b[38;5;241m=\u001b[39m \u001b[38;5;28;01mTrue\u001b[39;00m)\n",
      "File \u001b[1;32m~\\AppData\\Roaming\\Python\\Python312\\site-packages\\dash\\dash.py:2257\u001b[0m, in \u001b[0;36mDash.run\u001b[1;34m(self, host, port, proxy, debug, jupyter_mode, jupyter_width, jupyter_height, jupyter_server_url, dev_tools_ui, dev_tools_props_check, dev_tools_serve_dev_bundles, dev_tools_hot_reload, dev_tools_hot_reload_interval, dev_tools_hot_reload_watch_interval, dev_tools_hot_reload_max_retry, dev_tools_silence_routes_logging, dev_tools_disable_version_check, dev_tools_prune_errors, **flask_run_options)\u001b[0m\n\u001b[0;32m   2254\u001b[0m             extra_files\u001b[38;5;241m.\u001b[39mappend(path)\n\u001b[0;32m   2256\u001b[0m \u001b[38;5;28;01mif\u001b[39;00m jupyter_dash\u001b[38;5;241m.\u001b[39mactive:\n\u001b[1;32m-> 2257\u001b[0m     jupyter_dash\u001b[38;5;241m.\u001b[39mrun_app(\n\u001b[0;32m   2258\u001b[0m         \u001b[38;5;28mself\u001b[39m,\n\u001b[0;32m   2259\u001b[0m         mode\u001b[38;5;241m=\u001b[39mjupyter_mode,\n\u001b[0;32m   2260\u001b[0m         width\u001b[38;5;241m=\u001b[39mjupyter_width,\n\u001b[0;32m   2261\u001b[0m         height\u001b[38;5;241m=\u001b[39mjupyter_height,\n\u001b[0;32m   2262\u001b[0m         host\u001b[38;5;241m=\u001b[39mhost,\n\u001b[0;32m   2263\u001b[0m         port\u001b[38;5;241m=\u001b[39mport,\n\u001b[0;32m   2264\u001b[0m         server_url\u001b[38;5;241m=\u001b[39mjupyter_server_url,\n\u001b[0;32m   2265\u001b[0m     )\n\u001b[0;32m   2266\u001b[0m \u001b[38;5;28;01melse\u001b[39;00m:\n\u001b[0;32m   2267\u001b[0m     \u001b[38;5;28mself\u001b[39m\u001b[38;5;241m.\u001b[39mserver\u001b[38;5;241m.\u001b[39mrun(host\u001b[38;5;241m=\u001b[39mhost, port\u001b[38;5;241m=\u001b[39mport, debug\u001b[38;5;241m=\u001b[39mdebug, \u001b[38;5;241m*\u001b[39m\u001b[38;5;241m*\u001b[39mflask_run_options)\n",
      "File \u001b[1;32m~\\AppData\\Roaming\\Python\\Python312\\site-packages\\dash\\_jupyter.py:405\u001b[0m, in \u001b[0;36mJupyterDash.run_app\u001b[1;34m(self, app, mode, width, height, host, port, server_url)\u001b[0m\n\u001b[0;32m    403\u001b[0m     display(HTML(msg))\n\u001b[0;32m    404\u001b[0m \u001b[38;5;28;01melse\u001b[39;00m:\n\u001b[1;32m--> 405\u001b[0m     \u001b[38;5;28;01mraise\u001b[39;00m final_error\n",
      "File \u001b[1;32m~\\AppData\\Roaming\\Python\\Python312\\site-packages\\dash\\_jupyter.py:392\u001b[0m, in \u001b[0;36mJupyterDash.run_app\u001b[1;34m(self, app, mode, width, height, host, port, server_url)\u001b[0m\n\u001b[0;32m    389\u001b[0m         \u001b[38;5;28;01mraise\u001b[39;00m err\n\u001b[0;32m    391\u001b[0m \u001b[38;5;28;01mtry\u001b[39;00m:\n\u001b[1;32m--> 392\u001b[0m     wait_for_app()\n\u001b[0;32m    394\u001b[0m     \u001b[38;5;28;01mif\u001b[39;00m \u001b[38;5;28mself\u001b[39m\u001b[38;5;241m.\u001b[39min_colab:\n\u001b[0;32m    395\u001b[0m         JupyterDash\u001b[38;5;241m.\u001b[39m_display_in_colab(dashboard_url, port, mode, width, height)\n",
      "File \u001b[1;32m~\\AppData\\Roaming\\Python\\Python312\\site-packages\\retrying.py:56\u001b[0m, in \u001b[0;36mretry.<locals>.wrap.<locals>.wrapped_f\u001b[1;34m(*args, **kw)\u001b[0m\n\u001b[0;32m     54\u001b[0m \u001b[38;5;129m@six\u001b[39m\u001b[38;5;241m.\u001b[39mwraps(f)\n\u001b[0;32m     55\u001b[0m \u001b[38;5;28;01mdef\u001b[39;00m \u001b[38;5;21mwrapped_f\u001b[39m(\u001b[38;5;241m*\u001b[39margs, \u001b[38;5;241m*\u001b[39m\u001b[38;5;241m*\u001b[39mkw):\n\u001b[1;32m---> 56\u001b[0m     \u001b[38;5;28;01mreturn\u001b[39;00m Retrying(\u001b[38;5;241m*\u001b[39mdargs, \u001b[38;5;241m*\u001b[39m\u001b[38;5;241m*\u001b[39mdkw)\u001b[38;5;241m.\u001b[39mcall(f, \u001b[38;5;241m*\u001b[39margs, \u001b[38;5;241m*\u001b[39m\u001b[38;5;241m*\u001b[39mkw)\n",
      "File \u001b[1;32m~\\AppData\\Roaming\\Python\\Python312\\site-packages\\retrying.py:266\u001b[0m, in \u001b[0;36mRetrying.call\u001b[1;34m(self, fn, *args, **kwargs)\u001b[0m\n\u001b[0;32m    263\u001b[0m \u001b[38;5;28;01mif\u001b[39;00m \u001b[38;5;28mself\u001b[39m\u001b[38;5;241m.\u001b[39mstop(attempt_number, delay_since_first_attempt_ms):\n\u001b[0;32m    264\u001b[0m     \u001b[38;5;28;01mif\u001b[39;00m \u001b[38;5;129;01mnot\u001b[39;00m \u001b[38;5;28mself\u001b[39m\u001b[38;5;241m.\u001b[39m_wrap_exception \u001b[38;5;129;01mand\u001b[39;00m attempt\u001b[38;5;241m.\u001b[39mhas_exception:\n\u001b[0;32m    265\u001b[0m         \u001b[38;5;66;03m# get() on an attempt with an exception should cause it to be raised, but raise just in case\u001b[39;00m\n\u001b[1;32m--> 266\u001b[0m         \u001b[38;5;28;01mraise\u001b[39;00m attempt\u001b[38;5;241m.\u001b[39mget()\n\u001b[0;32m    267\u001b[0m     \u001b[38;5;28;01melse\u001b[39;00m:\n\u001b[0;32m    268\u001b[0m         \u001b[38;5;28;01mraise\u001b[39;00m RetryError(attempt)\n",
      "File \u001b[1;32m~\\AppData\\Roaming\\Python\\Python312\\site-packages\\retrying.py:301\u001b[0m, in \u001b[0;36mAttempt.get\u001b[1;34m(self, wrap_exception)\u001b[0m\n\u001b[0;32m    299\u001b[0m         \u001b[38;5;28;01mraise\u001b[39;00m RetryError(\u001b[38;5;28mself\u001b[39m)\n\u001b[0;32m    300\u001b[0m     \u001b[38;5;28;01melse\u001b[39;00m:\n\u001b[1;32m--> 301\u001b[0m         six\u001b[38;5;241m.\u001b[39mreraise(\u001b[38;5;28mself\u001b[39m\u001b[38;5;241m.\u001b[39mvalue[\u001b[38;5;241m0\u001b[39m], \u001b[38;5;28mself\u001b[39m\u001b[38;5;241m.\u001b[39mvalue[\u001b[38;5;241m1\u001b[39m], \u001b[38;5;28mself\u001b[39m\u001b[38;5;241m.\u001b[39mvalue[\u001b[38;5;241m2\u001b[39m])\n\u001b[0;32m    302\u001b[0m \u001b[38;5;28;01melse\u001b[39;00m:\n\u001b[0;32m    303\u001b[0m     \u001b[38;5;28;01mreturn\u001b[39;00m \u001b[38;5;28mself\u001b[39m\u001b[38;5;241m.\u001b[39mvalue\n",
      "File \u001b[1;32mF:\\ABID\\anaconda3\\Lib\\site-packages\\six.py:719\u001b[0m, in \u001b[0;36mreraise\u001b[1;34m(tp, value, tb)\u001b[0m\n\u001b[0;32m    717\u001b[0m     \u001b[38;5;28;01mif\u001b[39;00m value\u001b[38;5;241m.\u001b[39m__traceback__ \u001b[38;5;129;01mis\u001b[39;00m \u001b[38;5;129;01mnot\u001b[39;00m tb:\n\u001b[0;32m    718\u001b[0m         \u001b[38;5;28;01mraise\u001b[39;00m value\u001b[38;5;241m.\u001b[39mwith_traceback(tb)\n\u001b[1;32m--> 719\u001b[0m     \u001b[38;5;28;01mraise\u001b[39;00m value\n\u001b[0;32m    720\u001b[0m \u001b[38;5;28;01mfinally\u001b[39;00m:\n\u001b[0;32m    721\u001b[0m     value \u001b[38;5;241m=\u001b[39m \u001b[38;5;28;01mNone\u001b[39;00m\n",
      "File \u001b[1;32m~\\AppData\\Roaming\\Python\\Python312\\site-packages\\retrying.py:251\u001b[0m, in \u001b[0;36mRetrying.call\u001b[1;34m(self, fn, *args, **kwargs)\u001b[0m\n\u001b[0;32m    248\u001b[0m     \u001b[38;5;28mself\u001b[39m\u001b[38;5;241m.\u001b[39m_before_attempts(attempt_number)\n\u001b[0;32m    250\u001b[0m \u001b[38;5;28;01mtry\u001b[39;00m:\n\u001b[1;32m--> 251\u001b[0m     attempt \u001b[38;5;241m=\u001b[39m Attempt(fn(\u001b[38;5;241m*\u001b[39margs, \u001b[38;5;241m*\u001b[39m\u001b[38;5;241m*\u001b[39mkwargs), attempt_number, \u001b[38;5;28;01mFalse\u001b[39;00m)\n\u001b[0;32m    252\u001b[0m \u001b[38;5;28;01mexcept\u001b[39;00m:\n\u001b[0;32m    253\u001b[0m     tb \u001b[38;5;241m=\u001b[39m sys\u001b[38;5;241m.\u001b[39mexc_info()\n",
      "File \u001b[1;32m~\\AppData\\Roaming\\Python\\Python312\\site-packages\\dash\\_jupyter.py:383\u001b[0m, in \u001b[0;36mJupyterDash.run_app.<locals>.wait_for_app\u001b[1;34m()\u001b[0m\n\u001b[0;32m    381\u001b[0m     \u001b[38;5;28;01mif\u001b[39;00m res \u001b[38;5;241m!=\u001b[39m \u001b[38;5;124m\"\u001b[39m\u001b[38;5;124mAlive\u001b[39m\u001b[38;5;124m\"\u001b[39m:\n\u001b[0;32m    382\u001b[0m         url \u001b[38;5;241m=\u001b[39m \u001b[38;5;124mf\u001b[39m\u001b[38;5;124m\"\u001b[39m\u001b[38;5;124mhttp://\u001b[39m\u001b[38;5;132;01m{\u001b[39;00mhost\u001b[38;5;132;01m}\u001b[39;00m\u001b[38;5;124m:\u001b[39m\u001b[38;5;132;01m{\u001b[39;00mport\u001b[38;5;132;01m}\u001b[39;00m\u001b[38;5;124m\"\u001b[39m\n\u001b[1;32m--> 383\u001b[0m         \u001b[38;5;28;01mraise\u001b[39;00m \u001b[38;5;167;01mOSError\u001b[39;00m(\n\u001b[0;32m    384\u001b[0m             \u001b[38;5;124mf\u001b[39m\u001b[38;5;124m\"\u001b[39m\u001b[38;5;124mAddress \u001b[39m\u001b[38;5;124m'\u001b[39m\u001b[38;5;132;01m{\u001b[39;00murl\u001b[38;5;132;01m}\u001b[39;00m\u001b[38;5;124m'\u001b[39m\u001b[38;5;124m already in use.\u001b[39m\u001b[38;5;130;01m\\n\u001b[39;00m\u001b[38;5;124m\"\u001b[39m\n\u001b[0;32m    385\u001b[0m             \u001b[38;5;124m\"\u001b[39m\u001b[38;5;124m    Try passing a different port to run.\u001b[39m\u001b[38;5;124m\"\u001b[39m\n\u001b[0;32m    386\u001b[0m         )\n\u001b[0;32m    387\u001b[0m \u001b[38;5;28;01mexcept\u001b[39;00m requests\u001b[38;5;241m.\u001b[39mConnectionError \u001b[38;5;28;01mas\u001b[39;00m err:\n\u001b[0;32m    388\u001b[0m     _get_error()\n",
      "\u001b[1;31mOSError\u001b[0m: Address 'http://127.0.0.1:8050' already in use.\n    Try passing a different port to run."
     ]
    }
   ],
   "source": [
    "#full code for spacex_dash_app.py\n",
    "#import required libraries\n",
    "import dash\n",
    "from dash import dcc, html\n",
    "from dash.dependencies import Input, Output\n",
    "import pandas as pd\n",
    "import plotly.express as px\n",
    "\n",
    "#read the spacex dataset\n",
    "spacex_df = pd.read_csv('spacex_launch_dash.csv')\n",
    "\n",
    "#etract unique launch sites\n",
    "launch_sites = spacex_df['Launch Site'].unique()\n",
    "launch_sites_options = [{'label': site, 'value': site} for site in launch_sites]\n",
    "launch_sites_options.insert(0, {'label': 'All Sites', 'value': 'ALL'})\n",
    "\n",
    "#define min and max payload values\n",
    "min_payload = spacex_df['Payload Mass (kg)'].min()\n",
    "max_payload = spacex_df['Payload Mass (kg)'].max()\n",
    "\n",
    "#initialize the dash app\n",
    "app = dash.Dash(__name__)\n",
    "\n",
    "#define app layout\n",
    "app.layout = html.Div(children = [\n",
    "    html.H1('SpaceX Launch Records Dashboard',\n",
    "            style = {'textAlign': 'center', 'color': '#503D36', 'font-size': 40}),\n",
    "\n",
    "    #dropdown for lauch site selection\n",
    "    html.Div([\n",
    "        html.Label(\"Select Launch Site:\"),\n",
    "        dcc.Dropdown(\n",
    "        id = 'site-dropdown',\n",
    "        options = launch_sites_options,\n",
    "        value = 'ALL',\n",
    "        placeholder = 'Select a Launch Site here',\n",
    "        searchable = True\n",
    "    ),\n",
    "    ], style={'width': '50%', 'margin': 'auto'}),\n",
    "\n",
    "    html.Br(),\n",
    "\n",
    "    # Pie chart to show success counts\n",
    "    html.Div(dcc.Graph(id='success-pie-chart')),\n",
    "\n",
    "    html.Br(),\n",
    "\n",
    "    #payload range slider\n",
    "    html.Div([\n",
    "        html.Label(\"Select Payload Range (kg):\"),\n",
    "        dcc.RangeSlider(\n",
    "        id = 'payload-slider',\n",
    "        min = 0,\n",
    "        max = 10000,\n",
    "        step = 1000, marks = {i: str(i) for i in range (0, 11000, 2000)},\n",
    "        value = [min_payload, max_payload]\n",
    "    ),\n",
    "    ], style={'width': '70%', 'margin': 'auto'}),\n",
    "    html.Br(),\n",
    "\n",
    "    #scatter plot for payload vs success\n",
    "    html.Div(dcc.Graph(id = 'Success-Payload-Scatter-Chart')),\n",
    "])\n",
    "\n",
    "#callback function for updating the success pie chart\n",
    "@app.callback(\n",
    "    Output('Success-Pie-Chart', 'figure'),\n",
    "    [Input('site-dropdown', 'value')]\n",
    ")\n",
    "def update_pie_chart(selected_site):\n",
    "    if selected_site == 'ALL':\n",
    "        #Pie chart showing totla success launches\n",
    "        success_counts = spacex_df.groupby('Launch Site')['class'].sum().reset_index()\n",
    "        fig = px.pie(\n",
    "            success_counts,\n",
    "            name = 'Launch Site',\n",
    "            values = 'class',\n",
    "            title = 'Total Success Launches for All Sites'\n",
    "        )\n",
    "    else:\n",
    "        #pie chart for selected site (success vs Failure)\n",
    "        site_df = spacex_df[spacex_df['Launch Site'] == selected_site]\n",
    "        success_counts = site_df['class'].value_counts().reset_index()\n",
    "        success_counts.columns = ['class', 'count']\n",
    "        fig = px.pie(\n",
    "            success_counts,\n",
    "            names = 'class',\n",
    "            values = 'count',\n",
    "            title = f'Success Rate for {selected_site}'\n",
    "        )\n",
    "        return fig\n",
    "\n",
    "#callback function for updating the scatter plot\n",
    "@app.callback(\n",
    "    Output('success-payload-scatter-chart', 'figure'),\n",
    "    [Input('site-dropdown', 'value'),\n",
    "     Input('payload-slider', 'value')]\n",
    ")\n",
    "def update_scatter_chart(selected_site, payload_range):\n",
    "    #filter data by payload range\n",
    "    filtered_df = spacex_df[\n",
    "    (spacex_df['Payload Mass (kg)'] >= payload_range[0]) &\n",
    "    (spacex_df['Payload Mass (kg)'] <= payload_range[1])\n",
    "    ]\n",
    "\n",
    "    if selecte_site == 'ALL':\n",
    "        fig = px.scatter(\n",
    "            filtered_df,\n",
    "            x='Payload Mass (Kg)',\n",
    "            y = 'class',\n",
    "            color = 'Booster Version Category',\n",
    "            title = 'Payload vs Launch Outcome for All Sites',\n",
    "        )\n",
    "    else:\n",
    "        site_df = filtered_df[filtered_df['Launch Site'] == selected_site]\n",
    "        fig = px.scatter(\n",
    "            site_df,\n",
    "            x = 'Payload Mass (kg)',\n",
    "            y = 'class',\n",
    "            color = 'Booster Version Category',\n",
    "            title = f'Payload vs Launch Outcome for {selected_site}',\n",
    "        )\n",
    "    return fig\n",
    "\n",
    "# Run the Dash app\n",
    "if __name__ == '__main__':\n",
    "    app.run(debug = True)\n",
    "           \n",
    "        \n",
    "        \n",
    "        "
   ]
  },
  {
   "cell_type": "markdown",
   "id": "0615b74d-e678-45f6-b23d-b42910956711",
   "metadata": {},
   "source": [
    "## Observations\n",
    "\n",
    "### 1. Which site has the largest successful launches?\n",
    "To find this, we need to check whichlaunch site has the highest count of `class = 1` (success launches)"
   ]
  },
  {
   "cell_type": "code",
   "execution_count": 24,
   "id": "f03c93ed-5487-4512-94b1-ee8c05975aa5",
   "metadata": {},
   "outputs": [
    {
     "data": {
      "text/plain": [
       "Launch Site\n",
       "KSC LC-39A      10\n",
       "CCAFS LC-40      7\n",
       "VAFB SLC-4E      4\n",
       "CCAFS SLC-40     3\n",
       "Name: count, dtype: int64"
      ]
     },
     "execution_count": 24,
     "metadata": {},
     "output_type": "execute_result"
    }
   ],
   "source": [
    "spacex_df[spacex_df['class'] == 1]['Launch Site'].value_counts()"
   ]
  },
  {
   "cell_type": "markdown",
   "id": "b5ce2fbe-3d68-426f-8ea7-5c4d39bcc602",
   "metadata": {},
   "source": [
    "### 2. Which site has the highest launch success rate?\n",
    "Success rate = (successful launches/Total Launches at site)*100"
   ]
  },
  {
   "cell_type": "code",
   "execution_count": 25,
   "id": "3ae10159-08ee-4d66-bf4e-f787290d1b32",
   "metadata": {},
   "outputs": [
    {
     "data": {
      "text/plain": [
       "Launch Site\n",
       "CCAFS LC-40     26.923077\n",
       "CCAFS SLC-40    42.857143\n",
       "KSC LC-39A      76.923077\n",
       "VAFB SLC-4E     40.000000\n",
       "Name: class, dtype: float64"
      ]
     },
     "execution_count": 25,
     "metadata": {},
     "output_type": "execute_result"
    }
   ],
   "source": [
    "spacex_df.groupby('Launch Site')['class'].mean()*100"
   ]
  },
  {
   "cell_type": "markdown",
   "id": "91ee2032-df94-4f8b-aaee-8efb0d24138e",
   "metadata": {},
   "source": [
    "### 3. Which Pyload ranges(s) has the highest launch and lowest success rate?\n",
    "To determine this, group the dataset by payload ranges and calculate the success rate"
   ]
  },
  {
   "cell_type": "code",
   "execution_count": 27,
   "id": "12391a5d-f93f-467a-bf08-6056ac858d8e",
   "metadata": {},
   "outputs": [
    {
     "name": "stderr",
     "output_type": "stream",
     "text": [
      "C:\\Users\\ABID\\AppData\\Local\\Temp\\ipykernel_2440\\3424568621.py:1: FutureWarning:\n",
      "\n",
      "The default of observed=False is deprecated and will be changed to True in a future version of pandas. Pass observed=False to retain current behavior or observed=True to adopt the future default and silence this warning.\n",
      "\n"
     ]
    },
    {
     "data": {
      "text/plain": [
       "Payload Mass (kg)\n",
       "(0, 2000]        27.272727\n",
       "(2000, 4000]     61.904762\n",
       "(4000, 6000]     38.461538\n",
       "(6000, 8000]      0.000000\n",
       "(8000, 10000]    60.000000\n",
       "Name: class, dtype: float64"
      ]
     },
     "execution_count": 27,
     "metadata": {},
     "output_type": "execute_result"
    }
   ],
   "source": [
    "spacex_df.groupby(pd.cut(spacex_df['Payload Mass (kg)'], bins = [0, 2000, 4000, 6000, 8000, 10000]))['class'].mean()*100"
   ]
  },
  {
   "cell_type": "markdown",
   "id": "db44323d-4891-4418-84a9-5392e81d8017",
   "metadata": {},
   "source": [
    "### 4. Which F9 Booster version has the highest launch success rate?\n",
    "Group by Booster Version and calculate the success rate:"
   ]
  },
  {
   "cell_type": "code",
   "execution_count": 28,
   "id": "12639468-f020-4b25-bbc3-0d7ab177bbcd",
   "metadata": {},
   "outputs": [
    {
     "data": {
      "text/plain": [
       "Booster Version\n",
       "F9 B4  B1039.2      0.0\n",
       "F9 B4  B1040.2      0.0\n",
       "F9 B4  B1041.2      0.0\n",
       "F9 B4  B1043.2      0.0\n",
       "F9 B4 B1039.1     100.0\n",
       "F9 B4 B1040.1     100.0\n",
       "F9 B4 B1041.1     100.0\n",
       "F9 B4 B1042.1     100.0\n",
       "F9 B4 B1043.1     100.0\n",
       "F9 B4 B1044         0.0\n",
       "F9 B4 B1045.1     100.0\n",
       "F9 B5  B1046.1    100.0\n",
       "F9 FT  B1021.2    100.0\n",
       "F9 FT  B1029.2    100.0\n",
       "F9 FT  B1031.2    100.0\n",
       "F9 FT  B1032.2      0.0\n",
       "F9 FT  B1035.2    100.0\n",
       "F9 FT  B1036.2      0.0\n",
       "F9 FT  B1038.2      0.0\n",
       "F9 FT B1019       100.0\n",
       "F9 FT B1020         0.0\n",
       "F9 FT B1021.1     100.0\n",
       "F9 FT B1022       100.0\n",
       "F9 FT B1023.1     100.0\n",
       "F9 FT B1024         0.0\n",
       "F9 FT B1025.1     100.0\n",
       "F9 FT B1026       100.0\n",
       "F9 FT B1029.1     100.0\n",
       "F9 FT B1030         0.0\n",
       "F9 FT B1031.1     100.0\n",
       "F9 FT B1032.1     100.0\n",
       "F9 FT B1034         0.0\n",
       "F9 FT B1035.1     100.0\n",
       "F9 FT B1036.1     100.0\n",
       "F9 FT B1037         0.0\n",
       "F9 FT B1038.1     100.0\n",
       "F9 v1.0  B0003      0.0\n",
       "F9 v1.0  B0004      0.0\n",
       "F9 v1.0  B0005      0.0\n",
       "F9 v1.0  B0006      0.0\n",
       "F9 v1.0  B0007      0.0\n",
       "F9 v1.1             0.0\n",
       "F9 v1.1  B1003      0.0\n",
       "F9 v1.1 B1010       0.0\n",
       "F9 v1.1 B1011       0.0\n",
       "F9 v1.1 B1012       0.0\n",
       "F9 v1.1 B1013       0.0\n",
       "F9 v1.1 B1014       0.0\n",
       "F9 v1.1 B1015       0.0\n",
       "F9 v1.1 B1016       0.0\n",
       "F9 v1.1 B1017       0.0\n",
       "F9 v1.1 B1018     100.0\n",
       "Name: class, dtype: float64"
      ]
     },
     "execution_count": 28,
     "metadata": {},
     "output_type": "execute_result"
    }
   ],
   "source": [
    "spacex_df.groupby('Booster Version')['class'].mean()*100"
   ]
  },
  {
   "cell_type": "markdown",
   "id": "c87c190e-26d4-4896-9dd3-2d6b126bdc39",
   "metadata": {},
   "source": [
    "F9 B5 - 100% success rate - B1046.1 (100% success)"
   ]
  },
  {
   "cell_type": "code",
   "execution_count": null,
   "id": "a88da0b4-6337-497b-b8d0-143baa1e21e4",
   "metadata": {},
   "outputs": [],
   "source": []
  }
 ],
 "metadata": {
  "kernelspec": {
   "display_name": "Python 3 (ipykernel)",
   "language": "python",
   "name": "python3"
  },
  "language_info": {
   "codemirror_mode": {
    "name": "ipython",
    "version": 3
   },
   "file_extension": ".py",
   "mimetype": "text/x-python",
   "name": "python",
   "nbconvert_exporter": "python",
   "pygments_lexer": "ipython3",
   "version": "3.12.7"
  }
 },
 "nbformat": 4,
 "nbformat_minor": 5
}
